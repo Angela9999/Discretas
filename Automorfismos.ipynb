{
  "nbformat": 4,
  "nbformat_minor": 0,
  "metadata": {
    "colab": {
      "name": "Automorfismos.ipynb",
      "provenance": [],
      "authorship_tag": "ABX9TyOyl93DclIoZ+6ILcfd+J/t",
      "include_colab_link": true
    },
    "kernelspec": {
      "name": "python3",
      "display_name": "Python 3"
    }
  },
  "cells": [
    {
      "cell_type": "markdown",
      "metadata": {
        "id": "view-in-github",
        "colab_type": "text"
      },
      "source": [
        "<a href=\"https://colab.research.google.com/github/Angela9999/Discretas/blob/master/Automorfismos.ipynb\" target=\"_parent\"><img src=\"https://colab.research.google.com/assets/colab-badge.svg\" alt=\"Open In Colab\"/></a>"
      ]
    },
    {
      "cell_type": "markdown",
      "metadata": {
        "id": "vwDRuFoSnUWK",
        "colab_type": "text"
      },
      "source": [
        "#ALGORITMO PARA ENCONTRAR CONJUNTO DE AUTOMORFISMOS\n"
      ]
    },
    {
      "cell_type": "code",
      "metadata": {
        "id": "zD8DtCB9j_q_",
        "colab_type": "code",
        "colab": {}
      },
      "source": [
        "vertices = input(\"Número de vertices del grafo:\")\n",
        "aristas = input(\"Número de aristas del grafo:\")\n",
        "\n",
        "\n",
        "def buscar_grupo_de_automorfismos(lista_isomorfos):\n",
        "    automorfismos = []\n",
        "    grafo_cambiado= matriz\n",
        "    for i in range(len(lista_isomorfos)):\n",
        "        lista_posible_automorfismo = lista_isomorfos[i]\n",
        "        for j in range(lista_posible_automorfismo):\n",
        "            cambio = lista_posible_automorfismo[j]\n",
        "            grafo_cambiado = cambiar_matriz(cambio, grafo_cambiado)\n",
        "            if son_isomorfos(grafo_cambiado):\n",
        "                automorfismos.append(grafo_cambiado)\n",
        "    return automorfismos\n",
        "\n",
        "\n",
        "def son_isomorfos(grafo_cambiado):\n",
        "    cont= 0\n",
        "    for i in range(len(grafo_cambiado)):\n",
        "        for j in range(len(matriz)):\n",
        "            if matriz[j] == grafo_cambiado[i]:\n",
        "                cont = cont + 1\n",
        "    if cont == len(matriz):\n",
        "        return True\n",
        "    else:\n",
        "        return False\n",
        "\n",
        "\n",
        "def cambiar_matriz(cambio, grafo_cambiado):\n",
        "    for i in range(len(grafo_cambiado)):\n",
        "        grafo_cambiado.insert(i,cambiar_arista(cambio, grafo_cambiado[i]))\n",
        "    return grafo_cambiado\n",
        "\n",
        "\n",
        "def cambiar_arista(cambio, arista):\n",
        "    for i in range(len(arista)):\n",
        "        if arista[i] == cambio[0]:\n",
        "            arista[i] == cambio[1]\n",
        "        elif arista[i] == cambio[1]:\n",
        "            arista[i] == cambio[0]\n",
        "    return arista\n",
        "\n",
        "\n",
        "print(\"Escribe cada una de las aristas a continuación\")\n",
        "\n",
        "matriz = []\n",
        "permutaciones = []\n",
        "lista_isomorfos = []\n",
        "lista_grafo = []\n",
        "lista = []\n",
        "\n",
        "\n",
        "for i in range(0, int(aristas)):\n",
        "    print(\"la arista numero \" + str(i + 1))\n",
        "    vertice1 = int(input(\"El elemento 1 de la arista es:\"))\n",
        "    vertice2 = int(input(\"El elemento 2 de la arista es:\"))\n",
        "    arista = [vertice1, vertice2]\n",
        "    matriz.insert(i, arista)\n",
        "\n",
        "\n",
        "cont = 0\n",
        "for i in range(1, int(vertices) + 1):\n",
        "    for j in range(i, int(vertices) + 1):\n",
        "        permutaciones.insert(cont,[i,j])\n",
        "        cont = cont + 1\n",
        "\n",
        "\n",
        "def generar_permutaciones(permutaciones,lista_grafo, c, d,lista):\n",
        "    if d == 0:\n",
        "        for j in range(d):\n",
        "            lista_grafo.insert(j,permutaciones[j])\n",
        "        lista.append(lista_grafo)\n",
        "    else:\n",
        "        for i in range(d):\n",
        "            lista_grafo.insert(c, permutaciones[i]);\n",
        "            permutaciones.pop(i)\n",
        "            generar_permutaciones(permutaciones, lista_grafo, c + 1, d - 1, lista)\n",
        "\n",
        "generar_permutaciones(permutaciones,lista_grafo, 0, len(permutaciones),lista_isomorfos)\n",
        "\n",
        "\n",
        "print(vertices)\n",
        "print(aristas)\n",
        "print(matriz)\n",
        "print(lista_isomorfos)\n",
        "print(buscar_grupo_de_automorfismos(lista_isomorfos))\n"
      ],
      "execution_count": null,
      "outputs": []
    }
  ]
}